{
 "cells": [
  {
   "attachments": {},
   "cell_type": "markdown",
   "metadata": {},
   "source": [
    "# Problem 1\n",
    "\n",
    "Şimdi beraber kullanıcılardan aldığımız verileri işleyerek, onlara hem çıktı verecek, hem de aldığımız ve hesapladığımız verileri ileride kullanabilmek adına kaydedeceğiz.\n",
    "\n",
    "\n",
    " **Bu bir veri giriş platformu olacak**\n",
    "\n",
    "\n",
    " * kullanıcıya kaç giriş yapacağını soracağız\n",
    "* kullanıcıdan isim-soyisim, yaş, boy, kilo bilgilerini alarak VKİ hesaplayacağız\n",
    "* ardından bunları sınıflara göre kaydedeceğiz bir dosyaya kaydedeceğiz\n",
    "\n",
    "\n",
    "Sınıflar ise şu şekilde: \n",
    "* 18, 5 kg/m.'nin altında olanlar: Zayıf\n",
    "* 18.5 – 24, 9 kg/m. arasında olanlar: Normal kilolu\n",
    "* 25 – 29, 9 kg/m. arasında olanlar: Fazla kilolu\n",
    "* 30 – 39, 9 kg/m. arasında olanlar: Obez\n",
    "* 40 kg/m.'nin üzerinde olanlar: İleri derecede obez (morbid obez), olarak görülür."
   ]
  },
  {
   "cell_type": "code",
   "execution_count": 7,
   "metadata": {},
   "outputs": [
    {
     "name": "stdout",
     "output_type": "stream",
     "text": [
      "Kullanıcı kaydı 1\n"
     ]
    }
   ],
   "source": [
    "import time\n",
    "def vkihesaplama(kilo,boy):\n",
    "    vki=kilo/(boy**2)\n",
    "    return round(vki,1)\n",
    "def degeraralıgı(vki):\n",
    "    if vki < 18.5:\n",
    "        return \"Zayıf\"\n",
    "    elif vki < 24.9:\n",
    "        return \"Normal kilolu\"\n",
    "    elif vki < 29.9:\n",
    "        return \"Fazla kilolu\"\n",
    "    elif vki< 39.9:\n",
    "        return \"Obez\"\n",
    "    else:\n",
    "        return  \"ileri obez\"\n",
    "\n",
    "def cıktıolustur(isim,yas,kilo,boy,vki,deger):\n",
    "    kayıt=time.ctime(time.time())\n",
    "    t1=f\"İsim:{isim}\\n\"\n",
    "    t2=f\"yas:{yas}\\n Boy:{boy}cm \\n Kilo:{kilo}\\n\"\n",
    "    t3=f\"VKİ:{vki}\\n\"\n",
    "    t4=f\"değeraralığı:{deger}\\n\"\n",
    "    t5=f\"Kayıt tarihi:{kayıt}\\n\"\n",
    "    output=t1+t2+t3+t4+t5\n",
    "    return output\n",
    "\n",
    "def main():\n",
    "    girissayısı=int(input(\"Kişi sayısı:\"))\n",
    "    for i in range(girissayısı):\n",
    "        print(f\"Kullanıcı kaydı {i+1}\")\n",
    "        isim=input(\"Ad soyad gir\")\n",
    "        yas=int(input(\"Yaşını gir\"))\n",
    "        boy=float( input(\"boy(m) gir\"))\n",
    "        kilo=float(input(\"Kilo gir\"))\n",
    "        vki=vkihesaplama(kilo,boy)\n",
    "        deger=degeraralıgı(vki)\n",
    "        output=cıktıolustur(isim,yas,kilo,boy,vki,deger)\n",
    "        with open(\"kayıtlar.txt\",\"a\") as file:\n",
    "            file.write(output)\n",
    "            file.write(\"\\n\")\n",
    "            file.close()\n",
    "main()\n",
    "\n"
   ]
  },
  {
   "attachments": {},
   "cell_type": "markdown",
   "metadata": {},
   "source": [
    "# Problem 2\n",
    "**YetBar - Smoothie Bank**\n",
    "---\n",
    "YetBar spor salonunun girişinde bulunan, insansız bir sağlıklı içecek otomatıdır. Kullanıcı çeşitli girdiler smoothie içeceğine koyacağı ürünleri belirleyebilir, fiyat hesaplaması yaptırabilir ya da sadece menüyü görüntüleyebilir.\n",
    "\n",
    "**Projenin Amacı:**\n",
    "\n",
    "*   Birbirini etkileyen ve bir kod içerisinde birden fazla defa başvurulacak fonksiyonların oluşturulup, \"fonksiyonel\" proglamlamak.\n",
    "*   Büyük programları yazarken, yazılımcı olarak yapabileceğimiz hatalardan kaçınmak için kontrol yöntemleri geliştirmek.\n",
    "*   Kullanıcı inputlarını ve yaptığımız hesapları, raporlamak/loglamak amacıyla kaydetmek.\n",
    "\n",
    "**Programdan Beklenen Çıktılar**\n",
    "* Program kullanıcıya temelde 2 farklı işlem yapma imkanı sağlar.\n",
    "> 1. Menüyü görüntüleme\n",
    "> 3. Satın alma\n",
    "* Satın alınan her içecek tarih, fiyat bilgisi ile kaydedilmeli ve her zaman ulaşılabilir olmalıdır.\n",
    "\n",
    "\n"
   ]
  },
  {
   "cell_type": "code",
   "execution_count": 15,
   "metadata": {},
   "outputs": [],
   "source": [
    "# 2.Problemin Çözümünü Buraya Yazınız"
   ]
  }
 ],
 "metadata": {
  "kernelspec": {
   "display_name": "Python 3",
   "language": "python",
   "name": "python3"
  },
  "language_info": {
   "codemirror_mode": {
    "name": "ipython",
    "version": 3
   },
   "file_extension": ".py",
   "mimetype": "text/x-python",
   "name": "python",
   "nbconvert_exporter": "python",
   "pygments_lexer": "ipython3",
   "version": "3.12.3"
  },
  "orig_nbformat": 4,
  "vscode": {
   "interpreter": {
    "hash": "5026d2d6e7aaaaba093def813beadff083d8733e4a511af01735cbabd156995d"
   }
  }
 },
 "nbformat": 4,
 "nbformat_minor": 2
}
