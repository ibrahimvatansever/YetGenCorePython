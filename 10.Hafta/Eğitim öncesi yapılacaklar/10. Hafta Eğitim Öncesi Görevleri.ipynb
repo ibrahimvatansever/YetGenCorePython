{
 "cells": [
  {
   "attachments": {},
   "cell_type": "markdown",
   "metadata": {},
   "source": [
    "# Problem 1"
   ]
  },
  {
   "cell_type": "code",
   "execution_count": 1,
   "metadata": {},
   "outputs": [
    {
     "name": "stdout",
     "output_type": "stream",
     "text": [
      "Matris: [[3 6 7 7 2]]\n",
      "Matrisin Boyutu: (1, 5)\n",
      "Yeniden Boyutlandırılmış Matris:\n",
      " [[3]\n",
      " [6]\n",
      " [7]\n",
      " [7]\n",
      " [2]]\n",
      "Boyut Sayısı: 2\n"
     ]
    }
   ],
   "source": [
    "import numpy as np\n",
    "matris = np.random.randint(0, 11, size=(1, 5))\n",
    "print(\"Matris:\", matris)\n",
    "matrisboyutu = matris.shape\n",
    "print(\"Matrisin Boyutu:\", matrisboyutu)\n",
    "yenimatris = matris.reshape(5, 1)\n",
    "print(\"Yeniden Boyutlandırılmış Matris:\\n\", yenimatris)\n",
    "boyutsayisi = yenimatris.ndim\n",
    "print(\"Boyut Sayısı:\", boyutsayisi)\n"
   ]
  },
  {
   "attachments": {},
   "cell_type": "markdown",
   "metadata": {},
   "source": [
    "# Problem 2"
   ]
  },
  {
   "cell_type": "code",
   "execution_count": 28,
   "metadata": {},
   "outputs": [
    {
     "name": "stdout",
     "output_type": "stream",
     "text": [
      "Matris: [[5 7 5 3]\n",
      " [1 5 1 7]\n",
      " [3 9 5 1]]\n",
      "Parça 1: [[5 7]\n",
      " [1 5]\n",
      " [3 9]]\n",
      "Parça 2: [[5 3]\n",
      " [1 7]\n",
      " [5 1]]\n",
      "Birleşmiş Matris: [[5 7 5 3]\n",
      " [1 5 1 7]\n",
      " [3 9 5 1]]\n"
     ]
    }
   ],
   "source": [
    "import numpy as np\n",
    "teksayilar = np.arange(1, 11, 2)\n",
    "matris = np.random.choice(teksayilar, size=(3, 4))\n",
    "print(\"Matris:\", matris)\n",
    "\n",
    "parca1, parca2 = np.hsplit(matris, 2)\n",
    "print(\"Parça 1:\", parca1)\n",
    "print(\"Parça 2:\", parca2)\n",
    "\n",
    "birlesmismatris = np.hstack((parca1, parca2))\n",
    "print(\"Birleşmiş Matris:\", birlesmismatris)\n",
    "\n"
   ]
  },
  {
   "attachments": {},
   "cell_type": "markdown",
   "metadata": {},
   "source": [
    "# Problem 3"
   ]
  },
  {
   "cell_type": "code",
   "execution_count": 29,
   "metadata": {},
   "outputs": [
    {
     "name": "stdout",
     "output_type": "stream",
     "text": [
      "Matris: [[97 11 67 49 61]\n",
      " [19 13 19 79 39]]\n",
      "\n",
      "Matrisin Boyutu: (2, 5)\n",
      "Matrisin Eleman Sayısı: 10\n",
      "Matrisin Boyut Sayısı: 2\n",
      "Matrisin Veri Tipi: int64\n",
      "Matrisin Minimum Değeri: 11\n",
      "Matrisin Maksimum Değeri: 97\n"
     ]
    }
   ],
   "source": [
    "import numpy as np\n",
    "sayilar = np.arange(5, 101, 2)\n",
    "matris = np.random.choice(sayilar, size=(2, 5))\n",
    "print(\"Matris:\", matris)\n",
    "boyut = matris.shape\n",
    "print(\"\\nMatrisin Boyutu:\", boyut)\n",
    "elemansayisi = matris.size\n",
    "print(\"Matrisin Eleman Sayısı:\", elemansayisi)\n",
    "boyutsayisi = matris.ndim\n",
    "print(\"Matrisin Boyut Sayısı:\", boyutsayisi)\n",
    "veritipi = matris.dtype\n",
    "print(\"Matrisin Veri Tipi:\", veritipi)\n",
    "minimum_deger = np.min(matris)\n",
    "maksimum_deger = np.max(matris)\n",
    "print(\"Matrisin Minimum Değeri:\", minimum_deger)\n",
    "print(\"Matrisin Maksimum Değeri:\", maksimum_deger)\n",
    "\n"
   ]
  }
 ],
 "metadata": {
  "kernelspec": {
   "display_name": "Python 3",
   "language": "python",
   "name": "python3"
  },
  "language_info": {
   "codemirror_mode": {
    "name": "ipython",
    "version": 3
   },
   "file_extension": ".py",
   "mimetype": "text/x-python",
   "name": "python",
   "nbconvert_exporter": "python",
   "pygments_lexer": "ipython3",
   "version": "3.12.3"
  },
  "orig_nbformat": 4,
  "vscode": {
   "interpreter": {
    "hash": "5026d2d6e7aaaaba093def813beadff083d8733e4a511af01735cbabd156995d"
   }
  }
 },
 "nbformat": 4,
 "nbformat_minor": 2
}
