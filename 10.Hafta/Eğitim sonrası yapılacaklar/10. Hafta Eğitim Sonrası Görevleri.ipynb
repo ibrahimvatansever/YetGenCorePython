{
 "cells": [
  {
   "attachments": {},
   "cell_type": "markdown",
   "metadata": {},
   "source": [
    "# Problem 1 "
   ]
  },
  {
   "cell_type": "code",
   "execution_count": 2,
   "metadata": {},
   "outputs": [
    {
     "name": "stdout",
     "output_type": "stream",
     "text": [
      "Oluşturulan array: [34 80 13 93 60]\n",
      "Sıralanmış array: [13 34 60 80 93]\n"
     ]
    }
   ],
   "source": [
    "import numpy as np\n",
    "array = np.random.randint(0, 100, size=5)\n",
    "sıralanmısarray = np.sort(array)\n",
    "print(\"Oluşturulan array:\", array)\n",
    "print(\"Sıralanmış array:\", sıralanmısarray)\n"
   ]
  },
  {
   "attachments": {},
   "cell_type": "markdown",
   "metadata": {},
   "source": [
    "# Problem 2"
   ]
  },
  {
   "cell_type": "code",
   "execution_count": null,
   "metadata": {},
   "outputs": [],
   "source": [
    "import numpy as np\n",
    "array1 = np.array([10, 15, 30, 45, 60])\n",
    "array2 = np.arange(5, 16)\n",
    "array3 = np.arange(50, 101, 5)\n",
    "array4 = np.zeros(10)\n",
    "array5 = np.ones(10)\n",
    "array6 = np.linspace(0, 100, 5)\n",
    "array7 = np.random.randint(10, 31, size=5)\n",
    "array8 = np.linspace(-1, 1, 10)\n",
    "matrix = np.random.randint(10, 51, size=(3, 5))\n",
    "satırtoplamı = matrix.sum(axis=1)\n",
    "sütüntoplamı = matrix.sum(axis=0)\n",
    "maxdeger = matrix.max()\n",
    "mindeger = matrix.min()\n",
    "ortalamadeger = matrix.mean()\n",
    "maxindex = np.unravel_index(matrix.argmax(), matrix.shape)\n",
    "array9 = np.arange(10, 21)\n",
    "ilkuceleman = array9[:3]\n",
    "tersten = array9[::-1]\n",
    "ilksatır= matrix[0, :]\n",
    "ikincisatırucuncusutun = matrix[1, 2]\n",
    "ilkelemanlar = matrix[:, 0]\n",
    "kareleri = np.square(matrix)\n",
    "çiftler = matrix[(matrix % 2 == 0) & (matrix > 0)]\n",
    "\n",
    "print(\"1 - array1:\", array1)\n",
    "print(\"2 - array2:\", array2)\n",
    "print(\"3 - array3:\", array3)\n",
    "print(\"4 - array4:\", array4)\n",
    "print(\"5 - array5:\", array5)\n",
    "print(\"6 - array6:\", array6)\n",
    "print(\"7 - array7:\", array7)\n",
    "print(\"8 - array8:\", array8)\n",
    "print(\"9 - matrix:\", matrix)\n",
    "print(\"10 - satırtoplamı:\", satırtoplamı)\n",
    "print(\"10 - sütüntoplamı:\", sütüntoplamı)\n",
    "print(\"11 - maxdeger:\", maxdeger)\n",
    "print(\"11 - mindeger:\", mindeger)\n",
    "print(\"11 - ortalamadege:\", ortalamadeger)\n",
    "print(\"12 - maxindex:\", maxindex)\n",
    "print(\"13 - ilkuceleman:\", ilkuceleman)\n",
    "print(\"14 - tersten:\", tersten)\n",
    "print(\"15 - ilksatır:\", ilksatır)\n",
    "print(\"16 - ikincisatırucuncusutun:\", ikincisatırucuncusutun)\n",
    "print(\"17 - ilkelemanlar:\", ilkelemanlar)\n",
    "print(\"18 - kareleri:\",kareleri)\n",
    "print(\"19 - çiftler:\", çiftler)"
   ]
  }
 ],
 "metadata": {
  "kernelspec": {
   "display_name": "Python 3",
   "language": "python",
   "name": "python3"
  },
  "language_info": {
   "codemirror_mode": {
    "name": "ipython",
    "version": 3
   },
   "file_extension": ".py",
   "mimetype": "text/x-python",
   "name": "python",
   "nbconvert_exporter": "python",
   "pygments_lexer": "ipython3",
   "version": "3.12.3"
  },
  "orig_nbformat": 4,
  "vscode": {
   "interpreter": {
    "hash": "5026d2d6e7aaaaba093def813beadff083d8733e4a511af01735cbabd156995d"
   }
  }
 },
 "nbformat": 4,
 "nbformat_minor": 2
}
