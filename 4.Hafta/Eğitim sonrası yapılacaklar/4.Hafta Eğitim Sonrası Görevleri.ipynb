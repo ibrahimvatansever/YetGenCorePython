{
 "cells": [
  {
   "cell_type": "markdown",
   "metadata": {},
   "source": [
    "# Problem 1\n",
    "`ogrenciler` adında bir sözlük oluşturunuz. Kullanıcıdan döngü yardımıyla 3 öğrenci için veri girmesini isteyerek öğrencilerin sırasıyla okul numarası, isim, soy isim, telefon numarası ve doğum tarihi bilgilerini alınız. Aldığınız öğrenci bilgilerini yine aynı döngü yardımıyla `ogrenciler` adındaki sözlükte saklayınız. Daha sonra öğrenci bilgilerinin bulunduğu sözlük yapısını ekrana bastırınız.\n",
    "\n"
   ]
  },
  {
   "cell_type": "code",
   "execution_count": 3,
   "metadata": {},
   "outputs": [],
   "source": [
    "ogrenciler={}\n",
    "x=0\n",
    "while x<3:\n",
    "    okulno=(input(\"Okul numarasını giriniz:\"))\n",
    "    isim=input(\"Öğrencinin ismini giriniz:\")\n",
    "    soyisim=input(\"öğrencinin soyismini giriniz:\")\n",
    "    telefonnumarası=(input(\"telefon numarası giriniz:\"))\n",
    "    dogumtarihi=input(\"Doğum tarihi giriniz:\")\n",
    "    ogrencilerlistesi={\"Adı\":isim,\"soyadı\":soyisim,\"telefon nosu\":telefonnumarası,\"okul numarası\":okulno,\"doğum tarihi\":dogumtarihi}\n",
    "    x+=1\n",
    "ogrenciler[x+1]={\n",
    "    \"No\":okulno,\n",
    "    \"isim\":isim,\n",
    "    \"soyisim\":soyisim,\n",
    "    \"Telefon no\":telefonnumarası,\n",
    "    \"Doğum tarihi\":dogumtarihi\n",
    "}\n",
    "print(ogrenciler)\n",
    "    \n",
    "\n",
    "\n",
    "\n",
    "\n"
   ]
  },
  {
   "cell_type": "markdown",
   "metadata": {},
   "source": [
    "# Problem 2\n",
    "\n",
    "### a - Biraz ısınarak başlayalım!\n",
    "\n",
    "```\n",
    "numbers = [5,10,10,15,15,15,20,20,20,20]\n",
    "```\n",
    "\n",
    "Yukarıda `numbers` adında 10 elemanlı bir liste verilmiştir. Bu listenin her elemanını kontrol eden ve tekrar eden elemanları bir kez olacak şekilde başka bir listeye kopyalayan bir program yazınız. Son olarak oluşturduğunuz listeyi ekrana bastırınız.\n",
    "\n",
    "\n",
    "\n",
    "\n",
    "```\n",
    ">Output\n",
    "[5, 10, 15, 20]\n",
    "```\n"
   ]
  },
  {
   "cell_type": "code",
   "execution_count": 2,
   "metadata": {},
   "outputs": [
    {
     "name": "stdout",
     "output_type": "stream",
     "text": [
      "[5, 10, 15, 20]\n"
     ]
    }
   ],
   "source": [
    "numbers=[5,10,10,15,15,15,20,20,20,20]\n",
    "yeniset=set()\n",
    "for i in numbers:\n",
    "    yeniset.add(i)\n",
    "liste=list(yeniset)\n",
    "liste.sort()\n",
    "print(liste)"
   ]
  },
  {
   "cell_type": "markdown",
   "metadata": {},
   "source": [
    "### 🌶️ b) Hadi işi biraz daha zorlaştıralım! \n",
    "\n",
    "\n",
    "Şimdiyse senden `numbers` isimli listedeki tekrar eden elemanları `repeatNumbers` adındaki listeye; tekrar etmeyen elemanları `uniqueNumbers`adındaki listeye kopyalayan yazmanı ve listeleri ekrana bastırmanı bekliyoruz\n",
    "\n",
    "```\n",
    ">Output\n",
    "Tekrar Eden Elemanlar: [10, 10, 15, 15, 15, 20, 20, 20, 20]\n",
    "Tekrar Etmeyen Elemanlar: [5]\n",
    "```"
   ]
  },
  {
   "cell_type": "code",
   "execution_count": 39,
   "metadata": {},
   "outputs": [
    {
     "name": "stdout",
     "output_type": "stream",
     "text": [
      "[10, 10, 15, 15, 15, 20, 20, 20, 20]\n",
      "[5]\n"
     ]
    }
   ],
   "source": [
    "numbers=[5,10,10,15,15,15,20,20,20,20]\n",
    "repeatnumbers=[]\n",
    "uniquenumbers=[]\n",
    "for i in numbers:\n",
    "    if numbers.count(i)>1:\n",
    "        repeatnumbers.append(i)\n",
    "    elif numbers.count(i)==1:\n",
    "        uniquenumbers.append(i)\n",
    "print(repeatnumbers)\n",
    "print(uniquenumbers)"
   ]
  },
  {
   "cell_type": "markdown",
   "metadata": {},
   "source": [
    "# Problem 3\n",
    "sn1 = {1,2,3,4,5}\n",
    "\n",
    "sn2 = {4,5,6,7,8}\n",
    "\n",
    " Verilen 2 adet küme için kesişimlerini, farklarını ve birleşimlerini bulunuz. "
   ]
  },
  {
   "cell_type": "code",
   "execution_count": 44,
   "metadata": {},
   "outputs": [
    {
     "name": "stdout",
     "output_type": "stream",
     "text": [
      "{4, 5}\n",
      "{1, 2, 3, 4, 5, 6, 7, 8}\n",
      "{1, 2, 3}\n",
      "{8, 6, 7}\n"
     ]
    }
   ],
   "source": [
    "sn1={1,2,3,4,5}\n",
    "sn2={4,5,6,7,8}\n",
    "set3=sn1.intersection(sn2)\n",
    "print(set3)\n",
    "set4=sn1.union(sn2)\n",
    "print(set4)\n",
    "set5=sn1.difference(sn2)\n",
    "print(set5)\n",
    "set6=sn2.difference(sn1)\n",
    "print(set6)\n"
   ]
  },
  {
   "cell_type": "markdown",
   "metadata": {},
   "source": [
    "# Problem 4\n",
    "\n",
    "Buradaki işlemlerimizin tamamı stringler içindir. Aşağıda verilecek olan metodlar için kendinizin örnek yaratması gerekmektedir. \n",
    "\n",
    "Örneğin `upper` için `string` değişkeni oluştururken` k = \"BAC\"` şeklinde oluşturmayınız. Bunun yerine k değişkenini `k = \"bac`\" şeklinde oluşturmanız `upper` metodundaki değişimi görebilmeniz için daha iyi olacaktır.\n",
    "\n",
    "Bütün metodlardaki değişimin gözle görülür şekilde değişimi beklenmektedir.\n",
    "\n",
    "\n",
    "1- capitalize(), lower(), upper(), swapcase(), title(), replace()\n",
    "\n",
    "2- endswith(), startswith(), find(), index(), count()\n",
    "\n",
    "3- split(), strip(), join(), islower(), isalpha(), isdigit()\n",
    "\n",
    "\n",
    "Yukarıdaki `string` metodlarındaki değişimleri görebildiğimiz bir program yazınız.\n"
   ]
  },
  {
   "cell_type": "code",
   "execution_count": 93,
   "metadata": {},
   "outputs": [
    {
     "name": "stdout",
     "output_type": "stream",
     "text": [
      "BAC\n",
      "Bac\n",
      "BAC\n",
      "Bac\n",
      "mac\n",
      "False\n",
      "False\n",
      "1\n",
      "0\n",
      "1\n",
      "['Hello', 'World']\n",
      "Hello World\n",
      "elma Portakal Havuç\n",
      "False\n",
      "True\n",
      "True\n"
     ]
    }
   ],
   "source": [
    "k=\"bac\"\n",
    "print(k.upper())\n",
    "print(k.capitalize())\n",
    "print(k.swapcase())\n",
    "print(k.title())\n",
    "print(k.replace(\"b\",\"m\"))\n",
    "print(k.endswith(\"n\"))\n",
    "print(k.startswith(\"g\"))\n",
    "print(k.find(\"a\"))\n",
    "print(k.index(\"b\"))\n",
    "print(k.count(\"a\"))\n",
    "a=\"     Hello World      \"\n",
    "print(a.split())\n",
    "print(a.strip())\n",
    "liste=[\"elma\",\"Portakal\",\"Havuç\"]\n",
    "print(\" \".join(liste))\n",
    "b=\"Hello\"\n",
    "print(b.islower())\n",
    "print(b.isalpha())\n",
    "c=\"1223\"\n",
    "print(c.isdigit())"
   ]
  },
  {
   "cell_type": "code",
   "execution_count": null,
   "metadata": {},
   "outputs": [],
   "source": []
  }
 ],
 "metadata": {
  "kernelspec": {
   "display_name": "Python 3.10.5 64-bit",
   "language": "python",
   "name": "python3"
  },
  "language_info": {
   "codemirror_mode": {
    "name": "ipython",
    "version": 3
   },
   "file_extension": ".py",
   "mimetype": "text/x-python",
   "name": "python",
   "nbconvert_exporter": "python",
   "pygments_lexer": "ipython3",
   "version": "3.12.3"
  },
  "orig_nbformat": 4,
  "vscode": {
   "interpreter": {
    "hash": "5026d2d6e7aaaaba093def813beadff083d8733e4a511af01735cbabd156995d"
   }
  }
 },
 "nbformat": 4,
 "nbformat_minor": 2
}
